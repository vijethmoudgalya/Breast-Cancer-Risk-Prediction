{
  "nbformat": 4,
  "nbformat_minor": 0,
  "metadata": {
    "colab": {
      "name": "logisitic regression.ipynb",
      "provenance": []
    },
    "kernelspec": {
      "name": "python3",
      "display_name": "Python 3"
    }
  },
  "cells": [
    {
      "cell_type": "code",
      "metadata": {
        "id": "OchwSlUMdGSD",
        "colab_type": "code",
        "colab": {}
      },
      "source": [
        "import numpy as np\n",
        "import pandas as pd\n",
        "import matplotlib.pyplot as plt\n",
        "from sklearn.datasets import load_breast_cancer\n",
        "\n",
        "%matplotlib inline"
      ],
      "execution_count": 0,
      "outputs": []
    },
    {
      "cell_type": "code",
      "metadata": {
        "id": "yndZwuRskhOE",
        "colab_type": "code",
        "outputId": "c0a7c987-180e-45a7-9f98-2874a55d193e",
        "colab": {
          "base_uri": "https://localhost:8080/",
          "height": 1000
        }
      },
      "source": [
        "cancer  = load_breast_cancer()\n",
        "\n",
        "\n",
        "print(cancer.DESCR)"
      ],
      "execution_count": 0,
      "outputs": [
        {
          "output_type": "stream",
          "text": [
            ".. _breast_cancer_dataset:\n",
            "\n",
            "Breast cancer wisconsin (diagnostic) dataset\n",
            "--------------------------------------------\n",
            "\n",
            "**Data Set Characteristics:**\n",
            "\n",
            "    :Number of Instances: 569\n",
            "\n",
            "    :Number of Attributes: 30 numeric, predictive attributes and the class\n",
            "\n",
            "    :Attribute Information:\n",
            "        - radius (mean of distances from center to points on the perimeter)\n",
            "        - texture (standard deviation of gray-scale values)\n",
            "        - perimeter\n",
            "        - area\n",
            "        - smoothness (local variation in radius lengths)\n",
            "        - compactness (perimeter^2 / area - 1.0)\n",
            "        - concavity (severity of concave portions of the contour)\n",
            "        - concave points (number of concave portions of the contour)\n",
            "        - symmetry \n",
            "        - fractal dimension (\"coastline approximation\" - 1)\n",
            "\n",
            "        The mean, standard error, and \"worst\" or largest (mean of the three\n",
            "        largest values) of these features were computed for each image,\n",
            "        resulting in 30 features.  For instance, field 3 is Mean Radius, field\n",
            "        13 is Radius SE, field 23 is Worst Radius.\n",
            "\n",
            "        - class:\n",
            "                - WDBC-Malignant\n",
            "                - WDBC-Benign\n",
            "\n",
            "    :Summary Statistics:\n",
            "\n",
            "    ===================================== ====== ======\n",
            "                                           Min    Max\n",
            "    ===================================== ====== ======\n",
            "    radius (mean):                        6.981  28.11\n",
            "    texture (mean):                       9.71   39.28\n",
            "    perimeter (mean):                     43.79  188.5\n",
            "    area (mean):                          143.5  2501.0\n",
            "    smoothness (mean):                    0.053  0.163\n",
            "    compactness (mean):                   0.019  0.345\n",
            "    concavity (mean):                     0.0    0.427\n",
            "    concave points (mean):                0.0    0.201\n",
            "    symmetry (mean):                      0.106  0.304\n",
            "    fractal dimension (mean):             0.05   0.097\n",
            "    radius (standard error):              0.112  2.873\n",
            "    texture (standard error):             0.36   4.885\n",
            "    perimeter (standard error):           0.757  21.98\n",
            "    area (standard error):                6.802  542.2\n",
            "    smoothness (standard error):          0.002  0.031\n",
            "    compactness (standard error):         0.002  0.135\n",
            "    concavity (standard error):           0.0    0.396\n",
            "    concave points (standard error):      0.0    0.053\n",
            "    symmetry (standard error):            0.008  0.079\n",
            "    fractal dimension (standard error):   0.001  0.03\n",
            "    radius (worst):                       7.93   36.04\n",
            "    texture (worst):                      12.02  49.54\n",
            "    perimeter (worst):                    50.41  251.2\n",
            "    area (worst):                         185.2  4254.0\n",
            "    smoothness (worst):                   0.071  0.223\n",
            "    compactness (worst):                  0.027  1.058\n",
            "    concavity (worst):                    0.0    1.252\n",
            "    concave points (worst):               0.0    0.291\n",
            "    symmetry (worst):                     0.156  0.664\n",
            "    fractal dimension (worst):            0.055  0.208\n",
            "    ===================================== ====== ======\n",
            "\n",
            "    :Missing Attribute Values: None\n",
            "\n",
            "    :Class Distribution: 212 - Malignant, 357 - Benign\n",
            "\n",
            "    :Creator:  Dr. William H. Wolberg, W. Nick Street, Olvi L. Mangasarian\n",
            "\n",
            "    :Donor: Nick Street\n",
            "\n",
            "    :Date: November, 1995\n",
            "\n",
            "This is a copy of UCI ML Breast Cancer Wisconsin (Diagnostic) datasets.\n",
            "https://goo.gl/U2Uwz2\n",
            "\n",
            "Features are computed from a digitized image of a fine needle\n",
            "aspirate (FNA) of a breast mass.  They describe\n",
            "characteristics of the cell nuclei present in the image.\n",
            "\n",
            "Separating plane described above was obtained using\n",
            "Multisurface Method-Tree (MSM-T) [K. P. Bennett, \"Decision Tree\n",
            "Construction Via Linear Programming.\" Proceedings of the 4th\n",
            "Midwest Artificial Intelligence and Cognitive Science Society,\n",
            "pp. 97-101, 1992], a classification method which uses linear\n",
            "programming to construct a decision tree.  Relevant features\n",
            "were selected using an exhaustive search in the space of 1-4\n",
            "features and 1-3 separating planes.\n",
            "\n",
            "The actual linear program used to obtain the separating plane\n",
            "in the 3-dimensional space is that described in:\n",
            "[K. P. Bennett and O. L. Mangasarian: \"Robust Linear\n",
            "Programming Discrimination of Two Linearly Inseparable Sets\",\n",
            "Optimization Methods and Software 1, 1992, 23-34].\n",
            "\n",
            "This database is also available through the UW CS ftp server:\n",
            "\n",
            "ftp ftp.cs.wisc.edu\n",
            "cd math-prog/cpo-dataset/machine-learn/WDBC/\n",
            "\n",
            ".. topic:: References\n",
            "\n",
            "   - W.N. Street, W.H. Wolberg and O.L. Mangasarian. Nuclear feature extraction \n",
            "     for breast tumor diagnosis. IS&T/SPIE 1993 International Symposium on \n",
            "     Electronic Imaging: Science and Technology, volume 1905, pages 861-870,\n",
            "     San Jose, CA, 1993.\n",
            "   - O.L. Mangasarian, W.N. Street and W.H. Wolberg. Breast cancer diagnosis and \n",
            "     prognosis via linear programming. Operations Research, 43(4), pages 570-577, \n",
            "     July-August 1995.\n",
            "   - W.H. Wolberg, W.N. Street, and O.L. Mangasarian. Machine learning techniques\n",
            "     to diagnose breast cancer from fine-needle aspirates. Cancer Letters 77 (1994) \n",
            "     163-171.\n"
          ],
          "name": "stdout"
        }
      ]
    },
    {
      "cell_type": "code",
      "metadata": {
        "id": "VhPbDF6XkzEB",
        "colab_type": "code",
        "colab": {}
      },
      "source": [
        "features = pd.DataFrame(cancer.data,columns=cancer.feature_names)\n",
        "target = pd.DataFrame(cancer.target,columns=['Target'])\n",
        "data = pd.concat([features,target],axis=1)"
      ],
      "execution_count": 0,
      "outputs": []
    },
    {
      "cell_type": "code",
      "metadata": {
        "id": "uMXhesoMlmCx",
        "colab_type": "code",
        "outputId": "60cb0646-e7d6-4327-8b1b-843564eaf7c4",
        "colab": {
          "base_uri": "https://localhost:8080/",
          "height": 554
        }
      },
      "source": [
        "a = data.corr('pearson')\n",
        "abs(a.loc['Target']).sort_values(ascending=False)"
      ],
      "execution_count": 0,
      "outputs": [
        {
          "output_type": "execute_result",
          "data": {
            "text/plain": [
              "Target                     1.000000\n",
              "worst concave points       0.793566\n",
              "worst perimeter            0.782914\n",
              "mean concave points        0.776614\n",
              "worst radius               0.776454\n",
              "mean perimeter             0.742636\n",
              "worst area                 0.733825\n",
              "mean radius                0.730029\n",
              "mean area                  0.708984\n",
              "mean concavity             0.696360\n",
              "worst concavity            0.659610\n",
              "mean compactness           0.596534\n",
              "worst compactness          0.590998\n",
              "radius error               0.567134\n",
              "perimeter error            0.556141\n",
              "area error                 0.548236\n",
              "worst texture              0.456903\n",
              "worst smoothness           0.421465\n",
              "worst symmetry             0.416294\n",
              "mean texture               0.415185\n",
              "concave points error       0.408042\n",
              "mean smoothness            0.358560\n",
              "mean symmetry              0.330499\n",
              "worst fractal dimension    0.323872\n",
              "compactness error          0.292999\n",
              "concavity error            0.253730\n",
              "fractal dimension error    0.077972\n",
              "smoothness error           0.067016\n",
              "mean fractal dimension     0.012838\n",
              "texture error              0.008303\n",
              "symmetry error             0.006522\n",
              "Name: Target, dtype: float64"
            ]
          },
          "metadata": {
            "tags": []
          },
          "execution_count": 6
        }
      ]
    },
    {
      "cell_type": "code",
      "metadata": {
        "id": "SquF0wNWmAe1",
        "colab_type": "code",
        "outputId": "12468d1b-784a-4e89-8a4c-634fb307ac14",
        "colab": {
          "base_uri": "https://localhost:8080/",
          "height": 282
        }
      },
      "source": [
        "x=np.array(data['worst concave points'])\n",
        "y = np.array(data['Target'])\n",
        "\n",
        "x=x/x.mean()\n",
        "\n",
        "plt.plot(x,y,'r.')"
      ],
      "execution_count": 0,
      "outputs": [
        {
          "output_type": "execute_result",
          "data": {
            "text/plain": [
              "[<matplotlib.lines.Line2D at 0x7fd201213cf8>]"
            ]
          },
          "metadata": {
            "tags": []
          },
          "execution_count": 8
        },
        {
          "output_type": "display_data",
          "data": {
            "image/png": "[encoded data removed]",
            "text/plain": [
              "<Figure size 432x288 with 1 Axes>"
            ]
          },
          "metadata": {
            "tags": []
          }
        }
      ]
    },
    {
      "cell_type": "code",
      "metadata": {
        "id": "SC1hW1aKmdJF",
        "colab_type": "code",
        "colab": {}
      },
      "source": [
        "n=int(0.8 * len(x))\n",
        "x_train = x[:n]\n",
        "y_train = y[:n]\n",
        "\n",
        "x_test = x[:n]\n",
        "y_test = y[:n]"
      ],
      "execution_count": 0,
      "outputs": []
    },
    {
      "cell_type": "code",
      "metadata": {
        "id": "rqGUYPnAnBRo",
        "colab_type": "code",
        "colab": {}
      },
      "source": [
        "def sigmoid(x):\n",
        "  return 1/  (1+ np.exp(-x))"
      ],
      "execution_count": 0,
      "outputs": []
    },
    {
      "cell_type": "markdown",
      "metadata": {
        "id": "op_98NhCsoSF",
        "colab_type": "text"
      },
      "source": [
        ""
      ]
    },
    {
      "cell_type": "code",
      "metadata": {
        "id": "O2nGp8f3nQZA",
        "colab_type": "code",
        "colab": {}
      },
      "source": [
        "def error(a,b,x,y):\n",
        "  error =0\n",
        "  m=len(x)\n",
        "  for i in range(m):\n",
        "    z= a*x[i] +b\n",
        "    error += y[i]*np.log(sigmoid(z)) + (1-y[i])*np.log(1-sigmoid(z))\n",
        "\n",
        "  return (1/m)*error"
      ],
      "execution_count": 0,
      "outputs": []
    },
    {
      "cell_type": "code",
      "metadata": {
        "id": "vaww9qAvo3yg",
        "colab_type": "code",
        "colab": {}
      },
      "source": [
        "def step_gradient(a,b,x,y,learning_rate):\n",
        "  grad_a=0\n",
        "  grad_b=0\n",
        "  m=len(x)\n",
        "  for i in range(m):\n",
        "    z=a*x[i] +b\n",
        "    grad_a + 1/m* (sigmoid(z)-y[i]) *x[i]\n",
        "    grad_b + 1/m* (sigmoid(z)-y[i])\n",
        "  a=a-(grad_a *learning_rate)\n",
        "  b=b-(grad_b *learning_rate)\n",
        "  return a,b"
      ],
      "execution_count": 0,
      "outputs": []
    },
    {
      "cell_type": "code",
      "metadata": {
        "id": "QWIyfbPDqO9D",
        "colab_type": "code",
        "colab": {}
      },
      "source": [
        "def descend(initial_a,initial_b,x,y,learning_rate,iterations):\n",
        "  a=initial_a\n",
        "  b=initial_b\n",
        "  for i in range(iterations):\n",
        "    e=error(a,b,x,y)\n",
        "    if i %1000 ==0:\n",
        "      print(f\"Error: {e}\")\n",
        "    a,b = step_gradient(a,b,x,y,learning_rate)\n",
        "  return a,b"
      ],
      "execution_count": 0,
      "outputs": []
    },
    {
      "cell_type": "code",
      "metadata": {
        "id": "R68oy-lNq_qi",
        "colab_type": "code",
        "colab": {}
      },
      "source": [
        "def accuracy(theta,a,b,x,y):\n",
        "  count=0\n",
        "  for j in range(len(x)):\n",
        "    test = sigmoid(theta)\n",
        "\n",
        "    if test[j]>0.9:\n",
        "      z=1\n",
        "    else:\n",
        "      z=0\n",
        "    if [j]==z:\n",
        "      count +=1\n",
        "    acc=count/len(y)\n",
        "    print(f\"Error is {100-(acc*100)}\")"
      ],
      "execution_count": 0,
      "outputs": []
    },
    {
      "cell_type": "code",
      "metadata": {
        "id": "jRcw8VwVrv0I",
        "colab_type": "code",
        "outputId": "92550f3f-cd9d-4d70-8a30-a252876135c2",
        "colab": {
          "base_uri": "https://localhost:8080/",
          "height": 185
        }
      },
      "source": [
        "a=1\n",
        "b=1\n",
        "learning_rate=0.01\n",
        "iterations = 10000\n",
        "final_a,final_b =descend(a,b,x_train,y_train,learning_rate,iterations)"
      ],
      "execution_count": 0,
      "outputs": [
        {
          "output_type": "stream",
          "text": [
            "Error: -1.1971440889391973\n",
            "Error: -1.1971440889391973\n",
            "Error: -1.1971440889391973\n",
            "Error: -1.1971440889391973\n",
            "Error: -1.1971440889391973\n",
            "Error: -1.1971440889391973\n",
            "Error: -1.1971440889391973\n",
            "Error: -1.1971440889391973\n",
            "Error: -1.1971440889391973\n",
            "Error: -1.1971440889391973\n"
          ],
          "name": "stdout"
        }
      ]
    },
    {
      "cell_type": "code",
      "metadata": {
        "id": "bycA49sDvJ1n",
        "colab_type": "code",
        "outputId": "a7e9fb47-8dc8-4817-9f49-18389d433391",
        "colab": {
          "base_uri": "https://localhost:8080/",
          "height": 298
        }
      },
      "source": [
        "f = final_a *x_train + final_b\n",
        "plt.plot(x_train,y_train,'r.',x_train,sigmoid(f),'b+')"
      ],
      "execution_count": 0,
      "outputs": [
        {
          "output_type": "execute_result",
          "data": {
            "text/plain": [
              "[<matplotlib.lines.Line2D at 0x7fd2009b5f28>,\n",
              " <matplotlib.lines.Line2D at 0x7fd2009c0048>]"
            ]
          },
          "metadata": {
            "tags": []
          },
          "execution_count": 69
        },
        {
          "output_type": "display_data",
          "data": {
            "image/png": "[encoded data removed]",
            "text/plain": [
              "<Figure size 432x288 with 1 Axes>"
            ]
          },
          "metadata": {
            "tags": []
          }
        }
      ]
    },
    {
      "cell_type": "code",
      "metadata": {
        "id": "GO8FvSe1vtMJ",
        "colab_type": "code",
        "outputId": "7cea226f-070c-4600-e567-fc390c74d79a",
        "colab": {
          "base_uri": "https://localhost:8080/",
          "height": 298
        }
      },
      "source": [
        "g=final_a * x_test +final_b \n",
        "plt.plot(x_test,y_test,'g.',x_test,sigmoid(g),'co')"
      ],
      "execution_count": 0,
      "outputs": [
        {
          "output_type": "execute_result",
          "data": {
            "text/plain": [
              "[<matplotlib.lines.Line2D at 0x7fd200994cc0>,\n",
              " <matplotlib.lines.Line2D at 0x7fd200994da0>]"
            ]
          },
          "metadata": {
            "tags": []
          },
          "execution_count": 70
        },
        {
          "output_type": "display_data",
          "data": {
            "image/png": "[encoded data removed]",
            "text/plain": [
              "<Figure size 432x288 with 1 Axes>"
            ]
          },
          "metadata": {
            "tags": []
          }
        }
      ]
    },
    {
      "cell_type": "code",
      "metadata": {
        "id": "S_agpJAEwM6f",
        "colab_type": "code",
        "colab": {}
      },
      "source": [
        ""
      ],
      "execution_count": 0,
      "outputs": []
    }
  ]
}